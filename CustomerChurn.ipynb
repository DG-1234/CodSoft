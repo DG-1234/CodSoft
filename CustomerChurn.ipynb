{
 "cells": [
  {
   "cell_type": "code",
   "execution_count": 1,
   "id": "59e5ce11-8610-48c7-b227-e51221b9926b",
   "metadata": {},
   "outputs": [],
   "source": [
    "import pandas as pd\n",
    "import numpy as np\n",
    "from sklearn.model_selection import train_test_split\n",
    "from sklearn.preprocessing import StandardScaler\n",
    "from sklearn.metrics import accuracy_score, precision_score, recall_score, f1_score\n",
    "from sklearn.ensemble import RandomForestClassifier\n",
    "from sklearn.linear_model import LogisticRegression\n",
    "from sklearn.tree import DecisionTreeClassifier\n",
    "from sklearn.neighbors import KNeighborsClassifier\n",
    "from sklearn.naive_bayes import GaussianNB\n",
    "from sklearn.svm import SVC\n",
    "import warnings\n",
    "warnings.filterwarnings(\"ignore\")"
   ]
  },
  {
   "cell_type": "code",
   "execution_count": 2,
   "id": "0d70820f-4e2b-49c1-9139-936d94515764",
   "metadata": {},
   "outputs": [],
   "source": [
    "customer_dataset=pd.read_csv('3. Customer Churn Prediction.csv')"
   ]
  },
  {
   "cell_type": "code",
   "execution_count": 3,
   "id": "f141817e-8110-4e74-9359-4b85afa0b8df",
   "metadata": {},
   "outputs": [
    {
     "data": {
      "text/plain": [
       "(10000, 14)"
      ]
     },
     "execution_count": 3,
     "metadata": {},
     "output_type": "execute_result"
    }
   ],
   "source": [
    "customer_dataset.shape"
   ]
  },
  {
   "cell_type": "code",
   "execution_count": 4,
   "id": "20a8cc95-4be0-4baa-a87d-811f0ad3632a",
   "metadata": {},
   "outputs": [
    {
     "data": {
      "text/html": [
       "<div>\n",
       "<style scoped>\n",
       "    .dataframe tbody tr th:only-of-type {\n",
       "        vertical-align: middle;\n",
       "    }\n",
       "\n",
       "    .dataframe tbody tr th {\n",
       "        vertical-align: top;\n",
       "    }\n",
       "\n",
       "    .dataframe thead th {\n",
       "        text-align: right;\n",
       "    }\n",
       "</style>\n",
       "<table border=\"1\" class=\"dataframe\">\n",
       "  <thead>\n",
       "    <tr style=\"text-align: right;\">\n",
       "      <th></th>\n",
       "      <th>RowNumber</th>\n",
       "      <th>CustomerId</th>\n",
       "      <th>Surname</th>\n",
       "      <th>CreditScore</th>\n",
       "      <th>Geography</th>\n",
       "      <th>Gender</th>\n",
       "      <th>Age</th>\n",
       "      <th>Tenure</th>\n",
       "      <th>Balance</th>\n",
       "      <th>NumOfProducts</th>\n",
       "      <th>HasCrCard</th>\n",
       "      <th>IsActiveMember</th>\n",
       "      <th>EstimatedSalary</th>\n",
       "      <th>Exited</th>\n",
       "    </tr>\n",
       "  </thead>\n",
       "  <tbody>\n",
       "    <tr>\n",
       "      <th>0</th>\n",
       "      <td>1</td>\n",
       "      <td>15634602</td>\n",
       "      <td>Hargrave</td>\n",
       "      <td>619</td>\n",
       "      <td>France</td>\n",
       "      <td>Female</td>\n",
       "      <td>42</td>\n",
       "      <td>2</td>\n",
       "      <td>0.00</td>\n",
       "      <td>1</td>\n",
       "      <td>1</td>\n",
       "      <td>1</td>\n",
       "      <td>101348.88</td>\n",
       "      <td>1</td>\n",
       "    </tr>\n",
       "    <tr>\n",
       "      <th>1</th>\n",
       "      <td>2</td>\n",
       "      <td>15647311</td>\n",
       "      <td>Hill</td>\n",
       "      <td>608</td>\n",
       "      <td>Spain</td>\n",
       "      <td>Female</td>\n",
       "      <td>41</td>\n",
       "      <td>1</td>\n",
       "      <td>83807.86</td>\n",
       "      <td>1</td>\n",
       "      <td>0</td>\n",
       "      <td>1</td>\n",
       "      <td>112542.58</td>\n",
       "      <td>0</td>\n",
       "    </tr>\n",
       "    <tr>\n",
       "      <th>2</th>\n",
       "      <td>3</td>\n",
       "      <td>15619304</td>\n",
       "      <td>Onio</td>\n",
       "      <td>502</td>\n",
       "      <td>France</td>\n",
       "      <td>Female</td>\n",
       "      <td>42</td>\n",
       "      <td>8</td>\n",
       "      <td>159660.80</td>\n",
       "      <td>3</td>\n",
       "      <td>1</td>\n",
       "      <td>0</td>\n",
       "      <td>113931.57</td>\n",
       "      <td>1</td>\n",
       "    </tr>\n",
       "    <tr>\n",
       "      <th>3</th>\n",
       "      <td>4</td>\n",
       "      <td>15701354</td>\n",
       "      <td>Boni</td>\n",
       "      <td>699</td>\n",
       "      <td>France</td>\n",
       "      <td>Female</td>\n",
       "      <td>39</td>\n",
       "      <td>1</td>\n",
       "      <td>0.00</td>\n",
       "      <td>2</td>\n",
       "      <td>0</td>\n",
       "      <td>0</td>\n",
       "      <td>93826.63</td>\n",
       "      <td>0</td>\n",
       "    </tr>\n",
       "    <tr>\n",
       "      <th>4</th>\n",
       "      <td>5</td>\n",
       "      <td>15737888</td>\n",
       "      <td>Mitchell</td>\n",
       "      <td>850</td>\n",
       "      <td>Spain</td>\n",
       "      <td>Female</td>\n",
       "      <td>43</td>\n",
       "      <td>2</td>\n",
       "      <td>125510.82</td>\n",
       "      <td>1</td>\n",
       "      <td>1</td>\n",
       "      <td>1</td>\n",
       "      <td>79084.10</td>\n",
       "      <td>0</td>\n",
       "    </tr>\n",
       "  </tbody>\n",
       "</table>\n",
       "</div>"
      ],
      "text/plain": [
       "   RowNumber  CustomerId   Surname  CreditScore Geography  Gender  Age  \\\n",
       "0          1    15634602  Hargrave          619    France  Female   42   \n",
       "1          2    15647311      Hill          608     Spain  Female   41   \n",
       "2          3    15619304      Onio          502    France  Female   42   \n",
       "3          4    15701354      Boni          699    France  Female   39   \n",
       "4          5    15737888  Mitchell          850     Spain  Female   43   \n",
       "\n",
       "   Tenure    Balance  NumOfProducts  HasCrCard  IsActiveMember  \\\n",
       "0       2       0.00              1          1               1   \n",
       "1       1   83807.86              1          0               1   \n",
       "2       8  159660.80              3          1               0   \n",
       "3       1       0.00              2          0               0   \n",
       "4       2  125510.82              1          1               1   \n",
       "\n",
       "   EstimatedSalary  Exited  \n",
       "0        101348.88       1  \n",
       "1        112542.58       0  \n",
       "2        113931.57       1  \n",
       "3         93826.63       0  \n",
       "4         79084.10       0  "
      ]
     },
     "execution_count": 4,
     "metadata": {},
     "output_type": "execute_result"
    }
   ],
   "source": [
    "customer_dataset.head()"
   ]
  },
  {
   "cell_type": "code",
   "execution_count": 5,
   "id": "07148c0d-5c99-4f61-98ae-876c2dcd62a6",
   "metadata": {},
   "outputs": [
    {
     "data": {
      "text/plain": [
       "Geography\n",
       "France     5014\n",
       "Germany    2509\n",
       "Spain      2477\n",
       "Name: count, dtype: int64"
      ]
     },
     "execution_count": 5,
     "metadata": {},
     "output_type": "execute_result"
    }
   ],
   "source": [
    "customer_dataset.value_counts('Geography')"
   ]
  },
  {
   "cell_type": "code",
   "execution_count": 6,
   "id": "e621c436-f83c-4897-bb5c-78e71cf5a3a7",
   "metadata": {},
   "outputs": [],
   "source": [
    "customer_dataset.replace({'Geography':{'France':0, 'Germany':1, 'Spain':2}}, inplace = True)"
   ]
  },
  {
   "cell_type": "code",
   "execution_count": 7,
   "id": "e8998358-f280-46f2-96bf-82c161459851",
   "metadata": {},
   "outputs": [],
   "source": [
    "customer_dataset.replace({'Gender':{'Male':0, 'Female':1}}, inplace = True)"
   ]
  },
  {
   "cell_type": "code",
   "execution_count": 8,
   "id": "9e75429b-fa54-49fb-b8e6-529366fb821d",
   "metadata": {},
   "outputs": [],
   "source": [
    "X = customer_dataset.drop(columns = ['CustomerId', 'Surname', 'Exited'], axis=1)\n",
    "y = customer_dataset['Exited']"
   ]
  },
  {
   "cell_type": "code",
   "execution_count": 9,
   "id": "b4944468-e104-45f3-8b79-e12d7d4caff9",
   "metadata": {},
   "outputs": [
    {
     "name": "stdout",
     "output_type": "stream",
     "text": [
      "      RowNumber  CreditScore  Geography  Gender  Age  Tenure    Balance  \\\n",
      "0             1          619          0       1   42       2       0.00   \n",
      "1             2          608          2       1   41       1   83807.86   \n",
      "2             3          502          0       1   42       8  159660.80   \n",
      "3             4          699          0       1   39       1       0.00   \n",
      "4             5          850          2       1   43       2  125510.82   \n",
      "...         ...          ...        ...     ...  ...     ...        ...   \n",
      "9995       9996          771          0       0   39       5       0.00   \n",
      "9996       9997          516          0       0   35      10   57369.61   \n",
      "9997       9998          709          0       1   36       7       0.00   \n",
      "9998       9999          772          1       0   42       3   75075.31   \n",
      "9999      10000          792          0       1   28       4  130142.79   \n",
      "\n",
      "      NumOfProducts  HasCrCard  IsActiveMember  EstimatedSalary  \n",
      "0                 1          1               1        101348.88  \n",
      "1                 1          0               1        112542.58  \n",
      "2                 3          1               0        113931.57  \n",
      "3                 2          0               0         93826.63  \n",
      "4                 1          1               1         79084.10  \n",
      "...             ...        ...             ...              ...  \n",
      "9995              2          1               0         96270.64  \n",
      "9996              1          1               1        101699.77  \n",
      "9997              1          0               1         42085.58  \n",
      "9998              2          1               0         92888.52  \n",
      "9999              1          1               0         38190.78  \n",
      "\n",
      "[10000 rows x 11 columns]\n",
      "0       1\n",
      "1       0\n",
      "2       1\n",
      "3       0\n",
      "4       0\n",
      "       ..\n",
      "9995    0\n",
      "9996    0\n",
      "9997    1\n",
      "9998    1\n",
      "9999    0\n",
      "Name: Exited, Length: 10000, dtype: int64\n"
     ]
    }
   ],
   "source": [
    "print(X)\n",
    "print(y)"
   ]
  },
  {
   "cell_type": "code",
   "execution_count": 10,
   "id": "c596e2af-7ee6-4ee5-893a-2711d43aaec8",
   "metadata": {},
   "outputs": [],
   "source": [
    "standardize = StandardScaler()\n",
    "standardize.fit(X)\n",
    "standardize_X = standardize.transform(X)"
   ]
  },
  {
   "cell_type": "code",
   "execution_count": 11,
   "id": "1ab9da96-4143-47f4-9ab5-c4cb5789f14a",
   "metadata": {},
   "outputs": [],
   "source": [
    "X = standardize_X\n",
    "y = customer_dataset['Exited']"
   ]
  },
  {
   "cell_type": "code",
   "execution_count": 12,
   "id": "955d4260-c88e-419f-8a01-e279db577f8b",
   "metadata": {},
   "outputs": [],
   "source": [
    "X_train, X_test, y_train, y_test = train_test_split(X, y, test_size = 0.2, stratify = y, random_state = 42)"
   ]
  },
  {
   "cell_type": "code",
   "execution_count": 13,
   "id": "a90f8027-a748-46dc-bfcb-de714e052112",
   "metadata": {},
   "outputs": [],
   "source": [
    "models = {\n",
    "    'Logistic Regression': LogisticRegression(),\n",
    "    'Support Vector Machine': SVC(),\n",
    "    'Random Forest': RandomForestClassifier(),\n",
    "    'Decision Tree': DecisionTreeClassifier(),\n",
    "    'K-Nearest Neighbors': KNeighborsClassifier(),\n",
    "    'Naive Bayes': GaussianNB()\n",
    "}"
   ]
  },
  {
   "cell_type": "code",
   "execution_count": 14,
   "id": "9abea7e9-2c83-4e1c-a7fc-7e66ac882241",
   "metadata": {},
   "outputs": [
    {
     "name": "stdout",
     "output_type": "stream",
     "text": [
      "Logistic Regression - Test Accuracy: 0.8055\n",
      "Logistic Regression - Test F1 Score: 0.2327\n",
      "Logistic Regression - Test Recall: 0.1450\n",
      "Logistic Regression - Test Precision: 0.5900\n",
      "\n",
      "Support Vector Machine - Test Accuracy: 0.8590\n",
      "Support Vector Machine - Test F1 Score: 0.5253\n",
      "Support Vector Machine - Test Recall: 0.3833\n",
      "Support Vector Machine - Test Precision: 0.8342\n",
      "\n",
      "Random Forest - Test Accuracy: 0.8575\n",
      "Random Forest - Test F1 Score: 0.5455\n",
      "Random Forest - Test Recall: 0.4201\n",
      "Random Forest - Test Precision: 0.7773\n",
      "\n",
      "Decision Tree - Test Accuracy: 0.7790\n",
      "Decision Tree - Test F1 Score: 0.4610\n",
      "Decision Tree - Test Recall: 0.4644\n",
      "Decision Tree - Test Precision: 0.4576\n",
      "\n",
      "K-Nearest Neighbors - Test Accuracy: 0.8285\n",
      "K-Nearest Neighbors - Test F1 Score: 0.4530\n",
      "K-Nearest Neighbors - Test Recall: 0.3489\n",
      "K-Nearest Neighbors - Test Precision: 0.6455\n",
      "\n",
      "Naive Bayes - Test Accuracy: 0.8300\n",
      "Naive Bayes - Test F1 Score: 0.3633\n",
      "Naive Bayes - Test Recall: 0.2383\n",
      "Naive Bayes - Test Precision: 0.7638\n",
      "\n"
     ]
    }
   ],
   "source": [
    "for model_name, model in models.items():\n",
    "    model.fit(X_train, y_train)\n",
    "    y_pred_test = model.predict(X_test)\n",
    "    \n",
    "    test_accuracy = accuracy_score(y_test, y_pred_test)\n",
    "    test_f1 = f1_score(y_test, y_pred_test)\n",
    "    test_recall = recall_score(y_test, y_pred_test)\n",
    "    test_precision = precision_score(y_test, y_pred_test)\n",
    "\n",
    "    print(f\"{model_name} - Test Accuracy: {test_accuracy:.4f}\")\n",
    "    print(f\"{model_name} - Test F1 Score: {test_f1:.4f}\")\n",
    "    print(f\"{model_name} - Test Recall: {test_recall:.4f}\")\n",
    "    print(f\"{model_name} - Test Precision: {test_precision:.4f}\\n\")"
   ]
  },
  {
   "cell_type": "code",
   "execution_count": 15,
   "id": "7f7afdfe-0120-429f-bece-c8f96d3e56a6",
   "metadata": {},
   "outputs": [
    {
     "name": "stdout",
     "output_type": "stream",
     "text": [
      "[0]\n",
      "Customer is not exited\n"
     ]
    }
   ],
   "source": [
    "input_data=(132,795,1,1,33,9,130862.43,1,1,1,114935.21)\n",
    "input_data_as_numpy_array=np.asarray(input_data)\n",
    "input_data_reshaped=input_data_as_numpy_array.reshape(1,-1)\n",
    "prediction=model.predict(input_data_reshaped)\n",
    "print(prediction)\n",
    "if(prediction[0]==1):\n",
    "    print(\"Customer is exited\")\n",
    "else:\n",
    "    print(\"Customer is not exited\")"
   ]
  }
 ],
 "metadata": {
  "kernelspec": {
   "display_name": "Python 3 (ipykernel)",
   "language": "python",
   "name": "python3"
  },
  "language_info": {
   "codemirror_mode": {
    "name": "ipython",
    "version": 3
   },
   "file_extension": ".py",
   "mimetype": "text/x-python",
   "name": "python",
   "nbconvert_exporter": "python",
   "pygments_lexer": "ipython3",
   "version": "3.11.9"
  }
 },
 "nbformat": 4,
 "nbformat_minor": 5
}
